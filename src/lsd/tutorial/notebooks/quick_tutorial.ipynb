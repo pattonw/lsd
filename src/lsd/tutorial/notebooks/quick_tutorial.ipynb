{
  "nbformat": 4,
  "nbformat_minor": 0,
  "metadata": {
    "colab": {
      "name": "quick_tutorial.ipynb",
      "provenance": []
    },
    "kernelspec": {
      "name": "python3",
      "display_name": "Python 3"
    },
    "language_info": {
      "name": "python"
    }
  },
  "cells": [
    {
      "cell_type": "code",
      "execution_count": null,
      "metadata": {
        "collapsed": true,
        "id": "0C0rVejKz3uR"
      },
      "outputs": [],
      "source": [
        "# pooch required for skimage cells data\n",
        "!pip install lsds pooch"
      ]
    },
    {
      "cell_type": "code",
      "source": [
        "import h5py\n",
        "import io\n",
        "import matplotlib.pyplot as plt\n",
        "import numpy as np\n",
        "import random\n",
        "import requests\n",
        "import skimage\n",
        "\n",
        "from lsd.train import local_shape_descriptor\n",
        "from scipy.ndimage import median_filter\n",
        "from skimage.filters import sobel, threshold_li\n",
        "from skimage.measure import label\n",
        "from skimage.morphology import remove_small_holes, remove_small_objects\n",
        "from skimage.segmentation import watershed\n",
        "\n",
        "%matplotlib inline"
      ],
      "metadata": {
        "id": "NNSHGgZx0eTZ"
      },
      "execution_count": 2,
      "outputs": []
    },
    {
      "cell_type": "markdown",
      "source": [
        "## 2d Examples\n",
        "\n",
        "* Labels in coins example generated following this [tutorial](https://scikit-image.org/docs/stable/auto_examples/segmentation/plot_expand_labels.html)"
      ],
      "metadata": {
        "id": "UbHbnTA-Q_7V"
      }
    },
    {
      "cell_type": "code",
      "source": [
        "# get coins dataset\n",
        "data = skimage.data.coins()\n",
        "\n",
        "plt.imshow(data, cmap='gray')"
      ],
      "metadata": {
        "id": "CI8GXB620pBc"
      },
      "execution_count": null,
      "outputs": []
    },
    {
      "cell_type": "code",
      "source": [
        "# create edges\n",
        "edges = sobel(data)\n",
        "\n",
        "# generate markers for watershed\n",
        "markers = np.zeros_like(data)\n",
        "foreground, background = 1, 2\n",
        "markers[data < 30.0] = background\n",
        "markers[data > 150.0] = foreground\n",
        "\n",
        "# get unique labels\n",
        "ws = watershed(edges, markers)\n",
        "labels = label(ws == foreground).astype(np.uint64)\n",
        "\n",
        "plt.imshow(data, cmap='gray')\n",
        "plt.imshow(labels, cmap='prism', alpha=0.5)"
      ],
      "metadata": {
        "id": "nadgtQf-0x6e"
      },
      "execution_count": null,
      "outputs": []
    },
    {
      "cell_type": "code",
      "source": [
        "# calculate lsds\n",
        "lsds = local_shape_descriptor.get_local_shape_descriptors(\n",
        "              segmentation=labels,\n",
        "              sigma=(15,)*2,\n",
        "              voxel_size=(1,)*2)\n",
        "\n",
        "# 6 channels for 2d\n",
        "print(lsds.shape)"
      ],
      "metadata": {
        "id": "c08nzqpAz9Wy"
      },
      "execution_count": null,
      "outputs": []
    },
    {
      "cell_type": "code",
      "source": [
        "def view_lsds(lsds):\n",
        "\n",
        "  fig, axes = plt.subplots(\n",
        "            2,\n",
        "            3,\n",
        "            figsize=(25, 10),\n",
        "            sharex=True,\n",
        "            sharey=True,\n",
        "            squeeze=False)\n",
        "  \n",
        "  axes[0][0].imshow(np.squeeze(lsds[0]), cmap='jet')\n",
        "  axes[0][0].title.set_text('Mean offset Y')\n",
        "\n",
        "  axes[0][1].imshow(np.squeeze(lsds[1]), cmap='jet')\n",
        "  axes[0][1].title.set_text('Mean offset X')\n",
        "\n",
        "  axes[0][2].imshow(np.squeeze(lsds[2]), cmap='jet')\n",
        "  axes[0][2].title.set_text('Covariance Y-Y')\n",
        "\n",
        "  axes[1][0].imshow(np.squeeze(lsds[3]), cmap='jet')\n",
        "  axes[1][0].title.set_text('Covariance X-X')\n",
        "\n",
        "  axes[1][1].imshow(np.squeeze(lsds[4]), cmap='jet')\n",
        "  axes[1][1].title.set_text('Covariance Y-X')\n",
        "\n",
        "  axes[1][2].imshow(np.squeeze(lsds[5]), cmap='jet')\n",
        "  axes[1][2].title.set_text('Size')"
      ],
      "metadata": {
        "id": "Vk_Nxh1V792S"
      },
      "execution_count": 6,
      "outputs": []
    },
    {
      "cell_type": "code",
      "source": [
        "view_lsds(lsds)"
      ],
      "metadata": {
        "id": "-yKk7UOV8SJ9"
      },
      "execution_count": null,
      "outputs": []
    },
    {
      "cell_type": "code",
      "source": [
        "# example data from cremi challenge - might take a couple seconds to download\n",
        "url = 'https://cremi.org/static/data/sample_A_20160501.hdf'\n",
        "\n",
        "# convert from binary\n",
        "container = h5py.File(io.BytesIO(requests.get(url).content), 'r')"
      ],
      "metadata": {
        "id": "oniIXGRQ0OAn"
      },
      "execution_count": 8,
      "outputs": []
    },
    {
      "cell_type": "code",
      "source": [
        "# get corner patch\n",
        "raw = np.squeeze(container['volumes/raw'][0:1,0:250,0:250])\n",
        "labels = np.squeeze(container['volumes/labels/neuron_ids'][0:1,0:250,0:250])\n",
        "\n",
        "plt.imshow(raw, cmap='gray')\n",
        "plt.imshow(labels, cmap='prism', alpha=0.5)"
      ],
      "metadata": {
        "id": "CLbaH5iF-VPm"
      },
      "execution_count": null,
      "outputs": []
    },
    {
      "cell_type": "code",
      "source": [
        "# calc lsds\n",
        "lsds = local_shape_descriptor.get_local_shape_descriptors(\n",
        "              segmentation=labels,\n",
        "              sigma=(100,)*2,\n",
        "              voxel_size=[4,4])"
      ],
      "metadata": {
        "id": "yBoLTfEE9jNN"
      },
      "execution_count": 10,
      "outputs": []
    },
    {
      "cell_type": "code",
      "source": [
        "view_lsds(lsds)"
      ],
      "metadata": {
        "id": "mLwjpZHt7fKN"
      },
      "execution_count": null,
      "outputs": []
    },
    {
      "cell_type": "markdown",
      "source": [
        "## 3d example\n",
        "\n",
        "* Labels created following the start of this [tutorial](https://jni.github.io/i2k-skimage-napari/lectures/2_segmentation_and_regionprops.html)\n",
        "* There will be some falsely merged labels, but this should be a good starting point to see 3d lsds\n"
      ],
      "metadata": {
        "id": "uqqKEH-LFfhx"
      }
    },
    {
      "cell_type": "code",
      "source": [
        "# get 3d cells data, use nuceli channel\n",
        "data = skimage.data.cells3d()[:, 1]\n",
        "\n",
        "# ignore end sections that don't contain cells\n",
        "data = data[25:45]\n",
        "\n",
        "# denoise\n",
        "denoised = median_filter(data, size=3)"
      ],
      "metadata": {
        "id": "26L9ELEDEBVZ"
      },
      "execution_count": 12,
      "outputs": []
    },
    {
      "cell_type": "code",
      "source": [
        "plt.imshow(denoised[10], cmap='gray')"
      ],
      "metadata": {
        "id": "BMPc8IocEqms"
      },
      "execution_count": null,
      "outputs": []
    },
    {
      "cell_type": "code",
      "source": [
        "# create binary mask\n",
        "thresholded = denoised > threshold_li(denoised)\n",
        "\n",
        "# remove small holes and objects\n",
        "remove_holes = remove_small_holes(thresholded, 20**3)\n",
        "remove_objects = remove_small_objects(remove_holes, 20**3)\n",
        "\n",
        "# relabel connected components\n",
        "labels = label(remove_objects).astype(np.uint64)"
      ],
      "metadata": {
        "id": "7vLAuc8kEpm9"
      },
      "execution_count": 14,
      "outputs": []
    },
    {
      "cell_type": "code",
      "source": [
        "plt.imshow(denoised[10], cmap='gray')\n",
        "plt.imshow(labels[10], alpha=0.5)"
      ],
      "metadata": {
        "id": "WQbZ2-86E0J2"
      },
      "execution_count": null,
      "outputs": []
    },
    {
      "cell_type": "code",
      "source": [
        "# take a random crop for efficiency\n",
        "def random_crop(labels, crop_size):\n",
        "    y = random.randint(0, labels.shape[1] - crop_size)\n",
        "    x = random.randint(0, labels.shape[2] - crop_size)\n",
        "    labels = labels[:, y:y+crop_size, x:x+crop_size]\n",
        "    return labels"
      ],
      "metadata": {
        "id": "ppBegwFCJQsa"
      },
      "execution_count": 16,
      "outputs": []
    },
    {
      "cell_type": "code",
      "source": [
        "# calculate lsds\n",
        "lsds = local_shape_descriptor.get_local_shape_descriptors(\n",
        "                segmentation=random_crop(labels, 100),\n",
        "                sigma=(5,) * 3,\n",
        "                voxel_size=(1,) * 3)"
      ],
      "metadata": {
        "id": "FgRgV6QJEHib"
      },
      "execution_count": 17,
      "outputs": []
    },
    {
      "cell_type": "code",
      "source": [
        "# view lsds (example section 10)\n",
        "fig, axes = plt.subplots(\n",
        "            1,\n",
        "            4,\n",
        "            figsize=(25, 10),\n",
        "            sharex=True,\n",
        "            sharey=True,\n",
        "            squeeze=False)\n",
        "\n",
        "# lsds are shape: c,z,y,x (where channels is now 10 dimensions)\n",
        "# first 3 components can be rendered as rgb, matplotlib expects channels last\n",
        "axes[0][0].imshow(lsds[0:3,10].T)\n",
        "axes[0][0].title.set_text('Mean offset')\n",
        "\n",
        "axes[0][1].imshow(lsds[3:6,10].T)\n",
        "axes[0][1].title.set_text('Covariance')\n",
        "\n",
        "axes[0][2].imshow(lsds[6:9,10].T)\n",
        "axes[0][2].title.set_text('Pearsons')\n",
        "\n",
        "axes[0][3].imshow(lsds[9,10].T, cmap='jet')\n",
        "axes[0][3].title.set_text('Size')"
      ],
      "metadata": {
        "id": "Say1jb6gEMcb"
      },
      "execution_count": null,
      "outputs": []
    }
  ]
}